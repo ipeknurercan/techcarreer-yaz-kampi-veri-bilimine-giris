{
 "cells": [
  {
   "cell_type": "code",
   "execution_count": null,
   "id": "12152d59-ca7b-4037-8ee3-cb7400a5f316",
   "metadata": {},
   "outputs": [],
   "source": [
    "# YAZ KAMPI: VERİ BİLİMİNE GİRİŞ EĞİTİMİ\n",
    "# PYTHON ÖDEVİ 1\n",
    "# İpek Nur Ercan"
   ]
  },
  {
   "cell_type": "code",
   "execution_count": 1,
   "id": "b3bb918c-0d44-4cab-b2ac-bab93e3ff5c1",
   "metadata": {},
   "outputs": [
    {
     "name": "stdin",
     "output_type": "stream",
     "text": [
      "Adınızı giriniz:  İpek\n",
      "Yaşınızı giriniz:  21\n",
      "Boyunuzu metre cinsinden giriniz:  1.63\n"
     ]
    }
   ],
   "source": [
    "# BÖLÜM 1\n",
    "# GÖREV 1\n",
    "# Kullanıcıdan bilgileri alma\n",
    "isim = input(\"Adınızı giriniz: \")\n",
    "yas = int(input(\"Yaşınızı giriniz: \"))\n",
    "boy = float(input(\"Boyunuzu metre cinsinden giriniz: \"))"
   ]
  },
  {
   "cell_type": "code",
   "execution_count": 3,
   "id": "75b5c304-11bb-4829-ad9b-98b81918da1c",
   "metadata": {},
   "outputs": [
    {
     "name": "stdout",
     "output_type": "stream",
     "text": [
      "Merhaba ipek, 21 yaşındasınız ve boyunuz 1.63 metre.\n"
     ]
    }
   ],
   "source": [
    "# Bilgileri ekrana yazdırma\n",
    "print(f\"Merhaba {isim}, {yas} yaşındasınız ve boyunuz {boy} metre.\")\n"
   ]
  },
  {
   "cell_type": "code",
   "execution_count": 3,
   "id": "d9b831d9-45eb-4414-a060-35e50ae260d0",
   "metadata": {},
   "outputs": [
    {
     "name": "stdin",
     "output_type": "stream",
     "text": [
      "Matematik notunu giriniz:  90\n",
      "Fizik notunu giriniz:  86\n",
      "Kimya notunu giriniz:  97\n"
     ]
    }
   ],
   "source": [
    "# GÖREV 2\n",
    "# Öğrencinin notları\n",
    "matematik = int(input(\"Matematik notunu giriniz: \"))\n",
    "fizik = int(input(\"Fizik notunu giriniz: \"))\n",
    "kimya = int(input(\"Kimya notunu giriniz: \"))"
   ]
  },
  {
   "cell_type": "code",
   "execution_count": 5,
   "id": "3241aad1-3d29-4e5f-8aec-497af31ab741",
   "metadata": {},
   "outputs": [],
   "source": [
    "# Ortalama hesaplama\n",
    "ortalama = (matematik + fizik + kimya) / 3"
   ]
  },
  {
   "cell_type": "code",
   "execution_count": 6,
   "id": "eb86a234-4abb-45cf-8472-527e59ef8975",
   "metadata": {},
   "outputs": [
    {
     "name": "stdout",
     "output_type": "stream",
     "text": [
      "Notlarınızın ortalaması: 91.00\n"
     ]
    }
   ],
   "source": [
    "# Ekrana yazdırma\n",
    "print(f\"Notlarınızın ortalaması: {ortalama:.2f}\")"
   ]
  },
  {
   "cell_type": "code",
   "execution_count": 7,
   "id": "25b39fbf-2141-4eef-81b6-4b51ac6940a0",
   "metadata": {},
   "outputs": [],
   "source": [
    "# GÖREV 3\n",
    "# String değişkeni\n",
    "string = \"İpek\"\n",
    "\n",
    "# İlk ve son karakter\n",
    "ilk_karakter = string[0]\n",
    "son_karakter = string[-1]\n",
    "\n",
    "# Uzunluk\n",
    "uzunluk = len(string)\n",
    "\n",
    "# Ters çevrilmiş hali\n",
    "ters_string = string[::-1]"
   ]
  },
  {
   "cell_type": "code",
   "execution_count": 8,
   "id": "65fb5241-8fb0-4c3e-9ae6-be26455a9a5c",
   "metadata": {},
   "outputs": [
    {
     "name": "stdout",
     "output_type": "stream",
     "text": [
      "İlk karakter: İ\n",
      "Son karakter: k\n",
      "Uzunluk: 4\n",
      "Ters çevrilmiş: kepİ\n"
     ]
    }
   ],
   "source": [
    "# Ekrana yazdırma\n",
    "print(f\"İlk karakter: {ilk_karakter}\")\n",
    "print(f\"Son karakter: {son_karakter}\")\n",
    "print(f\"Uzunluk: {uzunluk}\")\n",
    "print(f\"Ters çevrilmiş: {ters_string}\")"
   ]
  },
  {
   "cell_type": "code",
   "execution_count": 9,
   "id": "41fb22da-cf5d-48aa-90db-73e4f1b1ad3a",
   "metadata": {},
   "outputs": [
    {
     "name": "stdin",
     "output_type": "stream",
     "text": [
      "Birinci sayıyı giriniz:  1\n",
      "İkinci sayıyı giriniz:  2\n"
     ]
    },
    {
     "name": "stdout",
     "output_type": "stream",
     "text": [
      "Toplam: 3.0\n",
      "Fark: -1.0\n",
      "Çarpım: 2.0\n",
      "Bölüm: 0.5\n",
      "Mod: 1.0\n"
     ]
    }
   ],
   "source": [
    "# BÖLÜM 2\n",
    "# GÖREV 4\n",
    "# Kullanıcıdan iki sayı al\n",
    "sayi1 = float(input(\"Birinci sayıyı giriniz: \"))\n",
    "sayi2 = float(input(\"İkinci sayıyı giriniz: \"))\n",
    "\n",
    "# İşlemler\n",
    "toplam = sayi1 + sayi2\n",
    "fark = sayi1 - sayi2\n",
    "carpim = sayi1 * sayi2\n",
    "bolum = sayi1 / sayi2\n",
    "mod = sayi1 % sayi2\n",
    "\n",
    "# Sonuçları yazdır\n",
    "print(f\"Toplam: {toplam}\")\n",
    "print(f\"Fark: {fark}\")\n",
    "print(f\"Çarpım: {carpim}\")\n",
    "print(f\"Bölüm: {bolum}\")\n",
    "print(f\"Mod: {mod}\")\n"
   ]
  },
  {
   "cell_type": "code",
   "execution_count": 10,
   "id": "5c3ab1b1-b1e5-4495-be6b-6d1c3363e27f",
   "metadata": {},
   "outputs": [
    {
     "name": "stdin",
     "output_type": "stream",
     "text": [
      "Matematik notunu giriniz:  98\n",
      "Fizik notunu giriniz:  89\n",
      "Kimya notunu giriniz:  97\n"
     ]
    },
    {
     "name": "stdout",
     "output_type": "stream",
     "text": [
      "Geçtiniz\n"
     ]
    }
   ],
   "source": [
    "# GÖREV 5\n",
    "# Öğrencinin notları\n",
    "matematik = float(input(\"Matematik notunu giriniz: \"))\n",
    "fizik = float(input(\"Fizik notunu giriniz: \"))\n",
    "kimya = float(input(\"Kimya notunu giriniz: \"))\n",
    "\n",
    "# Ortalama hesapla\n",
    "ortalama = (matematik + fizik + kimya) / 3\n",
    "\n",
    "# 50'den büyükse Geçti, değilse Kaldı\n",
    "if ortalama > 50:\n",
    "    print(\"Geçtiniz\")\n",
    "else:\n",
    "    print(\"Kaldınız\")\n"
   ]
  },
  {
   "cell_type": "code",
   "execution_count": 12,
   "id": "7a97aa72-1993-40a5-87cb-9f4b21c08d94",
   "metadata": {},
   "outputs": [
    {
     "name": "stdin",
     "output_type": "stream",
     "text": [
      "Yaşınızı giriniz:  21\n"
     ]
    },
    {
     "name": "stdout",
     "output_type": "stream",
     "text": [
      "Ehliyet alabilirsiniz\n"
     ]
    }
   ],
   "source": [
    "# GÖREV 6\n",
    "# yaş kontrolü\n",
    "\n",
    "yas = int(input(\"Yaşınızı giriniz: \"))\n",
    "\n",
    "if yas > 18:\n",
    "    print(\"Ehliyet alabilirsiniz\")\n",
    "else:\n",
    "    print(\"Ehliyet alamazsınız\")\n"
   ]
  },
  {
   "cell_type": "code",
   "execution_count": 13,
   "id": "5bd25a45-b132-440c-9d4d-ebed5a85a3f3",
   "metadata": {},
   "outputs": [
    {
     "name": "stdin",
     "output_type": "stream",
     "text": [
      "Ürünün fiyatını giriniz:  100\n",
      "İndirim oranını (%) giriniz:  50\n"
     ]
    },
    {
     "name": "stdout",
     "output_type": "stream",
     "text": [
      "İndirimli fiyat: 50.00 TL\n"
     ]
    }
   ],
   "source": [
    "# GÖREV 7\n",
    "# indirimli fiyat hesabı\n",
    "\n",
    "fiyat = float(input(\"Ürünün fiyatını giriniz: \"))\n",
    "indirim_orani = float(input(\"İndirim oranını (%) giriniz: \"))\n",
    "\n",
    "# İndirimli fiyat hesaplama\n",
    "indirimli_fiyat = fiyat * (1 - indirim_orani / 100)\n",
    "\n",
    "print(f\"İndirimli fiyat: {indirimli_fiyat:.2f} TL\")\n"
   ]
  },
  {
   "cell_type": "code",
   "execution_count": 14,
   "id": "04c7da24-68aa-4619-a653-767886c7a7b8",
   "metadata": {},
   "outputs": [
    {
     "name": "stdout",
     "output_type": "stream",
     "text": [
      "a and b : False\n",
      "a or b : True\n",
      "not a : False\n",
      "not b : True\n",
      "(a and not b) or (b and a) : True\n"
     ]
    }
   ],
   "source": [
    "# GÖREV 8\n",
    "# mantıksal operatörler\n",
    "a = True\n",
    "b = False\n",
    "\n",
    "print(f\"a and b : {a and b}\")   # False\n",
    "print(f\"a or b : {a or b}\")     # True\n",
    "print(f\"not a : {not a}\")       # False\n",
    "print(f\"not b : {not b}\")       # True\n",
    "\n",
    "# Karma örnek\n",
    "print(f\"(a and not b) or (b and a) : {(a and not b) or (b and a)}\")  # True\n"
   ]
  },
  {
   "cell_type": "code",
   "execution_count": 15,
   "id": "e750b668-9bea-40d9-9ded-48d5d53cf7a2",
   "metadata": {},
   "outputs": [
    {
     "name": "stdin",
     "output_type": "stream",
     "text": [
      "1. ürünün fiyatını giriniz:  56\n",
      "2. ürünün fiyatını giriniz:  87\n",
      "3. ürünün fiyatını giriniz:  56\n"
     ]
    },
    {
     "name": "stdout",
     "output_type": "stream",
     "text": [
      "Toplam fiyat: 199.00 TL\n",
      "Ödenecek tutar: 199.00 TL\n"
     ]
    }
   ],
   "source": [
    "# MINI PROJE\n",
    "# GÖREV 9\n",
    "\n",
    "# Kullanıcıdan 3 ürünün fiyatını al\n",
    "urun1 = float(input(\"1. ürünün fiyatını giriniz: \"))\n",
    "urun2 = float(input(\"2. ürünün fiyatını giriniz: \"))\n",
    "urun3 = float(input(\"3. ürünün fiyatını giriniz: \"))\n",
    "\n",
    "# Toplam fiyatı hesapla\n",
    "toplam = urun1 + urun2 + urun3\n",
    "\n",
    "# Eğer toplam 200 TL'den fazlaysa %10 indirim uygula\n",
    "if toplam > 200:\n",
    "    son_fiyat = toplam * 0.9\n",
    "else:\n",
    "    son_fiyat = toplam\n",
    "\n",
    "print(f\"Toplam fiyat: {toplam:.2f} TL\")\n",
    "print(f\"Ödenecek tutar: {son_fiyat:.2f} TL\")\n"
   ]
  },
  {
   "cell_type": "code",
   "execution_count": 18,
   "id": "652d1c2e-83f3-491b-ae3a-303586a965b3",
   "metadata": {},
   "outputs": [
    {
     "name": "stdin",
     "output_type": "stream",
     "text": [
      "Doğum yılınızı giriniz:  2003\n"
     ]
    },
    {
     "name": "stdout",
     "output_type": "stream",
     "text": [
      "Yetişkinsiniz\n"
     ]
    }
   ],
   "source": [
    "# MINI PROJE\n",
    "# GÖREV 10\n",
    "\n",
    "# Güncel yılı al (manuel olarak yazalım)\n",
    "mevcut_yil = 2025\n",
    "\n",
    "# Doğum yılı al\n",
    "dogum_yili = int(input(\"Doğum yılınızı giriniz: \"))\n",
    "\n",
    "# Yaş hesapla\n",
    "yas = mevcut_yil - dogum_yili\n",
    "\n",
    "# Yaşa göre mesaj ver\n",
    "if yas <= 12:\n",
    "    print(\"Çocuksunuz\")\n",
    "elif yas <= 17:\n",
    "    print(\"Ergensiniz\")\n",
    "else:\n",
    "    print(\"Yetişkinsiniz\")\n",
    "\n"
   ]
  },
  {
   "cell_type": "code",
   "execution_count": null,
   "id": "5327b23a-1e83-41af-825b-6235cef5aaa8",
   "metadata": {},
   "outputs": [],
   "source": []
  }
 ],
 "metadata": {
  "kernelspec": {
   "display_name": "Python 3 (ipykernel)",
   "language": "python",
   "name": "python3"
  },
  "language_info": {
   "codemirror_mode": {
    "name": "ipython",
    "version": 3
   },
   "file_extension": ".py",
   "mimetype": "text/x-python",
   "name": "python",
   "nbconvert_exporter": "python",
   "pygments_lexer": "ipython3",
   "version": "3.13.2"
  }
 },
 "nbformat": 4,
 "nbformat_minor": 5
}
