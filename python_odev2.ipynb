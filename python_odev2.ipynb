{
 "cells": [
  {
   "cell_type": "code",
   "execution_count": null,
   "id": "15a94e89-a18b-494d-94ea-28635fd4b6cf",
   "metadata": {},
   "outputs": [],
   "source": [
    "# YAZ KAMPI: VERİ BİLİMİNE GİRİŞ EĞİTİMİ\n",
    "# PYTHON ÖDEVİ 2\n",
    "# İpek Nur Ercan"
   ]
  },
  {
   "cell_type": "code",
   "execution_count": 3,
   "id": "28ba8f6e-d532-4785-bf72-39be796aa51f",
   "metadata": {},
   "outputs": [
    {
     "name": "stdin",
     "output_type": "stream",
     "text": [
      "Bir tam sayı girin:  -25\n"
     ]
    },
    {
     "name": "stdout",
     "output_type": "stream",
     "text": [
      "Negatif Tek\n"
     ]
    }
   ],
   "source": [
    "# Soru 1\n",
    "n = int(input(\"Bir tam sayı girin: \"))\n",
    "\n",
    "if n > 0:\n",
    "    isaret = \"Pozitif\"\n",
    "elif n < 0:\n",
    "    isaret = \"Negatif\"\n",
    "else:\n",
    "    isaret = \"Sıfır\"\n",
    "\n",
    "if n % 2 == 0:\n",
    "    tekcift = \"Çift\"\n",
    "else:\n",
    "    tekcift = \"Tek\"\n",
    "\n",
    "# Sıfır tek/çift tartışmalı olabilir; burada \"Sıfır Çift\" yazdırıyoruz.\n",
    "print(f\"{isaret} {tekcift}\" if n != 0 else \"Sıfır Çift\")"
   ]
  },
  {
   "cell_type": "code",
   "execution_count": 6,
   "id": "e41f31dd-76d5-4d0b-bcdc-123990dbaaae",
   "metadata": {},
   "outputs": [
    {
     "name": "stdin",
     "output_type": "stream",
     "text": [
      "Bir kelime girin:  ipek\n"
     ]
    },
    {
     "name": "stdout",
     "output_type": "stream",
     "text": [
      "{'i': 1, 'p': 1, 'e': 1, 'k': 1}\n"
     ]
    }
   ],
   "source": [
    "# Soru 2\n",
    "kelime = input(\"Bir kelime girin: \")\n",
    "frekans = {}\n",
    "for ch in kelime:\n",
    "    frekans[ch] = frekans.get(ch, 0) + 1\n",
    "print(frekans)\n",
    "# Örnek: data -> {'d': 1, 'a': 2, 't': 1}"
   ]
  },
  {
   "cell_type": "code",
   "execution_count": 10,
   "id": "bfa78f64-5d2f-4b71-a08d-231c43a2beaf",
   "metadata": {},
   "outputs": [
    {
     "name": "stdin",
     "output_type": "stream",
     "text": [
      "Bir şifre girin:  1234Python.\n"
     ]
    },
    {
     "name": "stdout",
     "output_type": "stream",
     "text": [
      "Şifre geçerli ✅\n"
     ]
    }
   ],
   "source": [
    "# Soru 3\n",
    "sifre = input(\"Bir şifre girin: \")\n",
    "\n",
    "uzunluk_ok = len(sifre) >= 8\n",
    "buyuk_ok = any(c.isupper() for c in sifre)\n",
    "rakam_ok  = any(c.isdigit() for c in sifre)\n",
    "\n",
    "if uzunluk_ok and buyuk_ok and rakam_ok:\n",
    "    print(\"Şifre geçerli ✅\")\n",
    "else:\n",
    "    print(\"Şifre geçersiz ❌\")\n",
    "    if not uzunluk_ok:\n",
    "        print(\"- En az 8 karakter olmalı.\")\n",
    "    if not buyuk_ok:\n",
    "        print(\"- En az 1 büyük harf içermeli.\")\n",
    "    if not rakam_ok:\n",
    "        print(\"- En az 1 rakam içermeli.\")\n",
    "\n"
   ]
  },
  {
   "cell_type": "code",
   "execution_count": 11,
   "id": "11d50617-7629-41ad-a826-a4a86b10ec78",
   "metadata": {},
   "outputs": [
    {
     "name": "stdout",
     "output_type": "stream",
     "text": [
      "Ortalama: 15.0\n",
      "Ortalamadan büyükler: [25, 30, 18]\n"
     ]
    }
   ],
   "source": [
    "# Soru 4\n",
    "liste = [12, 4, 9, 25, 30, 7, 18]\n",
    "ortalama = sum(liste) / len(liste)\n",
    "buyukler = [x for x in liste if x > ortalama]\n",
    "print(\"Ortalama:\", ortalama)\n",
    "print(\"Ortalamadan büyükler:\", buyukler)\n"
   ]
  },
  {
   "cell_type": "code",
   "execution_count": 12,
   "id": "58a9a91c-f882-4fdf-a0b4-9bafe18b7aee",
   "metadata": {},
   "outputs": [
    {
     "name": "stdout",
     "output_type": "stream",
     "text": [
      "*\n",
      "**\n",
      "***\n",
      "****\n",
      "*****\n"
     ]
    }
   ],
   "source": [
    "# Soru 5\n",
    "for i in range(1, 6):\n",
    "    print(\"*\" * i)"
   ]
  },
  {
   "cell_type": "code",
   "execution_count": 13,
   "id": "fb46c927-31ad-4487-8e38-8ff7dd901ddb",
   "metadata": {},
   "outputs": [
    {
     "name": "stdin",
     "output_type": "stream",
     "text": [
      "Sayı girin (bitirmek için 0):  1\n",
      "Sayı girin (bitirmek için 0):  2\n",
      "Sayı girin (bitirmek için 0):  3\n",
      "Sayı girin (bitirmek için 0):  0\n"
     ]
    },
    {
     "name": "stdout",
     "output_type": "stream",
     "text": [
      "Toplam: 6.0\n",
      "Ortalama: 2.0\n"
     ]
    }
   ],
   "source": [
    "# Soru 6\n",
    "toplam = 0\n",
    "adet = 0\n",
    "\n",
    "while True:\n",
    "    s = float(input(\"Sayı girin (bitirmek için 0): \"))\n",
    "    if s == 0:\n",
    "        break\n",
    "    toplam += s\n",
    "    adet += 1\n",
    "\n",
    "print(\"Toplam:\", toplam)\n",
    "if adet > 0:\n",
    "    print(\"Ortalama:\", toplam / adet)\n",
    "else:\n",
    "    print(\"Ortalama: tanımsız (hiç sayı girilmedi)\")"
   ]
  },
  {
   "cell_type": "code",
   "execution_count": 20,
   "id": "8f560b6c-5b8c-428a-b7d6-b0894e88fa3b",
   "metadata": {},
   "outputs": [
    {
     "name": "stdin",
     "output_type": "stream",
     "text": [
      "Bir kelime girin:  kazak\n"
     ]
    },
    {
     "name": "stdout",
     "output_type": "stream",
     "text": [
      "Palindrom ✅\n"
     ]
    }
   ],
   "source": [
    "# Soru 7\n",
    "kelime = input(\"Bir kelime girin: \")\n",
    "plnd = kelime.lower()\n",
    "if plnd == plnd[::-1]:\n",
    "    print(\"Palindrom ✅\")\n",
    "else:\n",
    "    print(\"Değil ❌\")\n"
   ]
  },
  {
   "cell_type": "code",
   "execution_count": 24,
   "id": "323dc56c-0b39-4a79-bd64-716a8a292bf0",
   "metadata": {},
   "outputs": [
    {
     "name": "stdout",
     "output_type": "stream",
     "text": [
      "[225, 900, 2025, 3600, 5625, 8100]\n"
     ]
    }
   ],
   "source": [
    "# Soru 8\n",
    "kareler = [n**2 for n in range(1, 101) if n % 15 == 0]  # 3 ve 5'in EKOK'u 15\n",
    "print(kareler)\n"
   ]
  },
  {
   "cell_type": "code",
   "execution_count": 27,
   "id": "117a3b64-0fa8-492b-9050-da29df547ade",
   "metadata": {},
   "outputs": [
    {
     "name": "stdin",
     "output_type": "stream",
     "text": [
      "Bir cümle girin:  ipek nur ercan\n"
     ]
    },
    {
     "name": "stdout",
     "output_type": "stream",
     "text": [
      "Ipek Nur Ercan\n"
     ]
    }
   ],
   "source": [
    "# Soru 9\n",
    "cumle = input(\"Bir cümle girin: \")\n",
    "kelimeler = cumle.split()\n",
    "bas_harf_buyuk = \" \".join(k.capitalize() for k in kelimeler)\n",
    "print(bas_harf_buyuk)\n",
    "# Örn: \"python veri bilimi\" -> \"Python Veri Bilimi\"\n"
   ]
  },
  {
   "cell_type": "code",
   "execution_count": 33,
   "id": "46c44075-0ccf-4a90-83c2-742abd864680",
   "metadata": {},
   "outputs": [
    {
     "name": "stdin",
     "output_type": "stream",
     "text": [
      "Kaç yorum gireceksiniz? (ör. 5):  5\n",
      "1. yorumu girin:  iyiydi\n",
      "2. yorumu girin:  çok iyiydi\n",
      "3. yorumu girin:  eh işte\n",
      "4. yorumu girin:  fena değildi\n",
      "5. yorumu girin:  daha iyi olabilirdi\n"
     ]
    },
    {
     "name": "stdout",
     "output_type": "stream",
     "text": [
      "Toplam yorum sayısı: 5\n",
      "\"iyi\" geçen yorum sayısı: 3\n",
      "En uzun yorum: daha iyi olabilirdi\n",
      "En kısa yorum: iyiydi\n",
      "Ortalama uzunluk: 10.8 karakter\n"
     ]
    }
   ],
   "source": [
    "# Mini Proje – Film Yorumu Analizi\n",
    "\n",
    "import unicodedata\n",
    "\n",
    "def _normalize_tr(text: str) -> str:\n",
    "    \"\"\"\n",
    "    Türkçe özel harfleri ve birleşik işaretleri normalize eder.\n",
    "    'İ' -> 'i̇' gibi durumlarda noktalı birleşik işareti kaldırıp\n",
    "    güvenli küçük harfe çevirir ki 'iyi' araması doğru çalışsın.\n",
    "    \"\"\"\n",
    "    s = text.casefold()\n",
    "    s = unicodedata.normalize(\"NFKD\", s)\n",
    "    s = \"\".join(ch for ch in s if not unicodedata.combining(ch))\n",
    "    return s\n",
    "\n",
    "def analiz_et(yorumlar):\n",
    "    # Uzunluklar\n",
    "    uzunluklar = [len(y.strip()) for y in yorumlar]\n",
    "\n",
    "    # \"iyi\" içeren yorum sayısı (büyük/küçük ve Türkçe noktalı I toleranslı)\n",
    "    iyi_sayisi = sum(1 for y in yorumlar if \"iyi\" in _normalize_tr(y))\n",
    "\n",
    "    # En uzun / en kısa (ilk görüleni alır)\n",
    "    en_uzun = max(yorumlar, key=lambda y: len(y.strip()))\n",
    "    en_kisa = min(yorumlar, key=lambda y: len(y.strip()))\n",
    "\n",
    "    ort_uzunluk = sum(uzunluklar) / len(yorumlar) if yorumlar else 0\n",
    "\n",
    "    return {\n",
    "        \"toplam\": len(yorumlar),\n",
    "        \"iyi_sayisi\": iyi_sayisi,\n",
    "        \"en_uzun\": en_uzun.strip(),\n",
    "        \"en_kisa\": en_kisa.strip(),\n",
    "        \"ortalama\": ort_uzunluk\n",
    "    }\n",
    "\n",
    "# --- Etkileşimli kullanım ---\n",
    "if __name__ == \"__main__\":\n",
    "    try:\n",
    "        n = int(input(\"Kaç yorum gireceksiniz? (ör. 5): \"))\n",
    "    except ValueError:\n",
    "        print(\"Geçersiz sayı. Varsayılan 5 alındı.\")\n",
    "        n = 5\n",
    "\n",
    "    yorumlar = []\n",
    "    for i in range(1, n + 1):\n",
    "        y = input(f\"{i}. yorumu girin: \").strip()\n",
    "        yorumlar.append(y)\n",
    "\n",
    "    sonuc = analiz_et(yorumlar)\n",
    "\n",
    "    print(f\"Toplam yorum sayısı: {sonuc['toplam']}\")\n",
    "    print(f\"\\\"iyi\\\" geçen yorum sayısı: {sonuc['iyi_sayisi']}\")\n",
    "    print(f\"En uzun yorum: {sonuc['en_uzun']}\")\n",
    "    print(f\"En kısa yorum: {sonuc['en_kisa']}\")\n",
    "    print(f\"Ortalama uzunluk: {sonuc['ortalama']:.1f} karakter\")\n"
   ]
  },
  {
   "cell_type": "code",
   "execution_count": null,
   "id": "c05e3787-ab07-469e-ad1a-8ef63396c3d2",
   "metadata": {},
   "outputs": [],
   "source": []
  }
 ],
 "metadata": {
  "kernelspec": {
   "display_name": "Python 3 (ipykernel)",
   "language": "python",
   "name": "python3"
  },
  "language_info": {
   "codemirror_mode": {
    "name": "ipython",
    "version": 3
   },
   "file_extension": ".py",
   "mimetype": "text/x-python",
   "name": "python",
   "nbconvert_exporter": "python",
   "pygments_lexer": "ipython3",
   "version": "3.13.2"
  }
 },
 "nbformat": 4,
 "nbformat_minor": 5
}
