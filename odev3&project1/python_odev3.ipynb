{
 "cells": [
  {
   "cell_type": "code",
   "execution_count": null,
   "id": "712d06c3-0be9-4060-9c84-c56c023d7002",
   "metadata": {},
   "outputs": [],
   "source": [
    "# YAZ KAMPI: VERİ BİLİMİNE GİRİŞ EĞİTİMİ\n",
    "# PYTHON ÖDEVİ 3\n",
    "# İpek Nur Ercan"
   ]
  },
  {
   "cell_type": "code",
   "execution_count": 3,
   "id": "38d4c6b3-115f-42ac-b9a9-ece2c6454940",
   "metadata": {},
   "outputs": [
    {
     "name": "stdout",
     "output_type": "stream",
     "text": [
      "Benzersiz liste: [100, 92, 85, 76]\n",
      "En yüksek not: 100\n",
      "En düşük not: 76\n",
      "Sıralı liste: [76, 85, 92, 100]\n"
     ]
    }
   ],
   "source": [
    "# soru1\n",
    "notlar = [85, 92, 76, 92, 100, 76, 85, 92]\n",
    "\n",
    "# Tekrar eden notları sil\n",
    "benzersiz = list(set(notlar))\n",
    "\n",
    "# En yüksek ve en düşük not\n",
    "en_yuksek = max(notlar)\n",
    "en_dusuk = min(notlar)\n",
    "\n",
    "# Küçükten büyüğe sıralama\n",
    "sirali = sorted(benzersiz)\n",
    "\n",
    "print(\"Benzersiz liste:\", benzersiz)\n",
    "print(\"En yüksek not:\", en_yuksek)\n",
    "print(\"En düşük not:\", en_dusuk)\n",
    "print(\"Sıralı liste:\", sirali)\n"
   ]
  },
  {
   "cell_type": "code",
   "execution_count": 2,
   "id": "1fa9f0df-3f7d-4b55-afbf-4702cb79f187",
   "metadata": {},
   "outputs": [
    {
     "name": "stdout",
     "output_type": "stream",
     "text": [
      "153 Armstrong mu? True\n",
      "123 Armstrong mu? False\n"
     ]
    }
   ],
   "source": [
    "# soru2\n",
    "def armstrong_mu(sayi):\n",
    "    toplam = sum(int(hane) ** 3 for hane in str(sayi))\n",
    "    return toplam == sayi\n",
    "\n",
    "print(153, \"Armstrong mu?\", armstrong_mu(153))\n",
    "print(123, \"Armstrong mu?\", armstrong_mu(123))\n"
   ]
  },
  {
   "cell_type": "code",
   "execution_count": 4,
   "id": "afaf5f06-c3fd-4259-ae21-52d6f6c1d0d6",
   "metadata": {},
   "outputs": [
    {
     "name": "stdout",
     "output_type": "stream",
     "text": [
      "Ortak diller: {'Python', 'SQL'}\n",
      "Sadece A: {'R', 'Java'}\n",
      "Birleşim: ['C++', 'Java', 'JavaScript', 'Python', 'R', 'SQL']\n"
     ]
    }
   ],
   "source": [
    "# soru3\n",
    "A = {\"Python\", \"R\", \"SQL\", \"Java\"}\n",
    "B = {\"C++\", \"Python\", \"JavaScript\", \"SQL\"}\n",
    "\n",
    "# Ortak elemanlar\n",
    "ortak = A & B\n",
    "\n",
    "# Sadece A’da olanlar\n",
    "sadece_A = A - B\n",
    "\n",
    "# Birleşim (alfabetik)\n",
    "birlesim = sorted(A | B)\n",
    "\n",
    "print(\"Ortak diller:\", ortak)\n",
    "print(\"Sadece A:\", sadece_A)\n",
    "print(\"Birleşim:\", birlesim)\n"
   ]
  },
  {
   "cell_type": "code",
   "execution_count": 5,
   "id": "2ccbc2d2-4717-4972-a43e-379706700ea1",
   "metadata": {},
   "outputs": [
    {
     "name": "stdout",
     "output_type": "stream",
     "text": [
      "Sayılar: [98, 23, 81, 97, 57, 33, 99, 97, 68, 63]\n",
      "Ortalama: 71.6\n",
      "Standart sapma: 27.845606076682508\n"
     ]
    }
   ],
   "source": [
    "# soru4\n",
    "import random, statistics\n",
    "\n",
    "sayilar = [random.randint(1, 100) for _ in range(10)]\n",
    "\n",
    "ortalama = statistics.mean(sayilar)\n",
    "std = statistics.stdev(sayilar)\n",
    "\n",
    "print(\"Sayılar:\", sayilar)\n",
    "print(\"Ortalama:\", ortalama)\n",
    "print(\"Standart sapma:\", std)\n",
    "\n"
   ]
  },
  {
   "cell_type": "code",
   "execution_count": 7,
   "id": "33e7290b-6cbb-4e4a-a6d3-8616e32d27bf",
   "metadata": {},
   "outputs": [
    {
     "name": "stdout",
     "output_type": "stream",
     "text": [
      "(9, 'öğrencilerinin', 'veri')\n"
     ]
    }
   ],
   "source": [
    "# soru5\n",
    "from collections import Counter\n",
    "\n",
    "def kelime_sayaci(metin):\n",
    "    kelimeler = metin.split()\n",
    "    toplam = len(kelimeler)\n",
    "    en_uzun = max(kelimeler, key=len)\n",
    "    en_sik = Counter(kelimeler).most_common(1)[0][0]\n",
    "    return toplam, en_uzun, en_sik\n",
    "\n",
    "metin = \"veri bilimi dersindeki veri bilimi öğrencilerinin veri bilgisi verisi\"\n",
    "print(kelime_sayaci(metin))\n"
   ]
  },
  {
   "cell_type": "code",
   "execution_count": 8,
   "id": "d8da01f3-b748-4bb0-83be-70ce452e5cbf",
   "metadata": {},
   "outputs": [
    {
     "name": "stdout",
     "output_type": "stream",
     "text": [
      "Çiftler: [12, 18, 24, 16]\n",
      "Kareler: [144, 324, 576, 256]\n",
      "Azalan sıralı kareler: [576, 324, 256, 144]\n"
     ]
    }
   ],
   "source": [
    "# soru6\n",
    "sayilar = [5, 12, 7, 18, 24, 3, 16]\n",
    "\n",
    "ciftler = list(filter(lambda x: x % 2 == 0, sayilar))\n",
    "kareler = list(map(lambda x: x**2, ciftler))\n",
    "sirali = sorted(kareler, reverse=True)\n",
    "\n",
    "print(\"Çiftler:\", ciftler)\n",
    "print(\"Kareler:\", kareler)\n",
    "print(\"Azalan sıralı kareler:\", sirali)\n"
   ]
  },
  {
   "cell_type": "code",
   "execution_count": 9,
   "id": "0362c849-b358-4c4c-877b-42f096dd494c",
   "metadata": {},
   "outputs": [
    {
     "name": "stdout",
     "output_type": "stream",
     "text": [
      "['veri', 'bilim', 'analiz', 'python', 'yapayzeka']\n"
     ]
    }
   ],
   "source": [
    "# soru7\n",
    "kelimeler = [\"veri\", \"bilim\", \"analiz\", \"yapayzeka\", \"python\"]\n",
    "\n",
    "sirali = sorted(kelimeler, key=lambda x: len(x))\n",
    "\n",
    "print(sirali)\n"
   ]
  },
  {
   "cell_type": "code",
   "execution_count": 10,
   "id": "77e538cc-9109-4872-8b0b-bd7a1d660f43",
   "metadata": {},
   "outputs": [
    {
     "name": "stdout",
     "output_type": "stream",
     "text": [
      "15\n"
     ]
    }
   ],
   "source": [
    "# soru8\n",
    "def rakam_toplami(metin):\n",
    "    import re\n",
    "    sayilar = re.findall(r\"\\d+\", metin)  # tüm sayıları bul\n",
    "    return sum(map(int, sayilar))\n",
    "\n",
    "print(rakam_toplami(\"abc12def3\"))  # 15\n"
   ]
  },
  {
   "cell_type": "code",
   "execution_count": 11,
   "id": "cde479c9-db14-4e80-aabc-eb05746f1678",
   "metadata": {},
   "outputs": [
    {
     "name": "stdout",
     "output_type": "stream",
     "text": [
      "Dizi: [15  1  1 23 49 35 44  1 25  4]\n",
      "Ortalama: 19.8\n",
      "Standart sapma: 17.434448657758008\n",
      "En büyük: 49\n"
     ]
    }
   ],
   "source": [
    "# soru9\n",
    "import numpy as np\n",
    "\n",
    "dizi = np.random.randint(0, 51, 10)\n",
    "print(\"Dizi:\", dizi)\n",
    "print(\"Ortalama:\", np.mean(dizi))\n",
    "print(\"Standart sapma:\", np.std(dizi))\n",
    "print(\"En büyük:\", np.max(dizi))\n"
   ]
  },
  {
   "cell_type": "code",
   "execution_count": 12,
   "id": "2ad443f0-6096-489f-92e1-ac4d03fd63bd",
   "metadata": {},
   "outputs": [
    {
     "name": "stdout",
     "output_type": "stream",
     "text": [
      "Matris:\n",
      " [[0.22510115 0.29585958 0.87256165 0.8158918  0.94946729]\n",
      " [0.80652947 0.55075114 0.07129345 0.69867184 0.83731287]\n",
      " [0.10024441 0.25958698 0.37915755 0.12337584 0.29973687]\n",
      " [0.85439377 0.69231091 0.59750675 0.09631716 0.13998983]\n",
      " [0.2058303  0.87238822 0.65241217 0.78839868 0.9857133 ]]\n",
      "Sütun ortalamaları: [0.43841982 0.53417937 0.51458631 0.50453106 0.64244403]\n",
      "Binary matris:\n",
      " [[0 0 1 1 1]\n",
      " [1 1 0 1 1]\n",
      " [0 0 0 0 0]\n",
      " [1 1 1 0 0]\n",
      " [0 1 1 1 1]]\n"
     ]
    }
   ],
   "source": [
    "# soru10\n",
    "import numpy as np\n",
    "\n",
    "matris = np.random.rand(5, 5)\n",
    "sutun_ort = np.mean(matris, axis=0)\n",
    "binary = (matris > 0.5).astype(int)\n",
    "\n",
    "print(\"Matris:\\n\", matris)\n",
    "print(\"Sütun ortalamaları:\", sutun_ort)\n",
    "print(\"Binary matris:\\n\", binary)\n"
   ]
  },
  {
   "cell_type": "code",
   "execution_count": null,
   "id": "9e28b7d2-f780-4cab-86e4-6f8a62082f69",
   "metadata": {},
   "outputs": [],
   "source": []
  }
 ],
 "metadata": {
  "kernelspec": {
   "display_name": "Python 3 (ipykernel)",
   "language": "python",
   "name": "python3"
  },
  "language_info": {
   "codemirror_mode": {
    "name": "ipython",
    "version": 3
   },
   "file_extension": ".py",
   "mimetype": "text/x-python",
   "name": "python",
   "nbconvert_exporter": "python",
   "pygments_lexer": "ipython3",
   "version": "3.13.2"
  }
 },
 "nbformat": 4,
 "nbformat_minor": 5
}
